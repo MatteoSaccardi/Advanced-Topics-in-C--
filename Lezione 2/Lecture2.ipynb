{
 "cells": [
  {
   "cell_type": "markdown",
   "metadata": {},
   "source": [
    "# Lecture 2"
   ]
  },
  {
   "cell_type": "markdown",
   "metadata": {},
   "source": [
    "## Pointers\n",
    "- Optimize code and dynamic memory management\n",
    "- To be used _cum grano salis_"
   ]
  },
  {
   "cell_type": "markdown",
   "metadata": {},
   "source": [
    "```int a[10] = {0,1,2,3,4,5,6,7,8,9} ;```\\\n",
    "This is the declaration of a 10-dimensional array, i.e. a block of _consecutive_ objects in memory called a[0],...,a[9], followed by its initialization.\\\n",
    "Instead, the advantage of using pointers relies on the dynamic memory management.\\\n",
    "``` int* pa; \\\\ declaration ```\\\n",
    "``` pa = &a[5]; \\\\ assignment, i.e. syntactically *pa = a[5] = 5```\\\n",
    "```pa``` is a pointer to an integer, ```pa``` contains the _address_ of ```a[5]```, while ```*pa```contains the _value_. Also, ```a[5]``` is the _value_ of the sixth location of ```a```, while ```&a[5]```is its _address_.\\\n",
    "OSS:\n",
    "- ```pa = a;``` and ```pa = &a[0];``` are the same.\\\n",
    "- ```pa = a;``` or ```pa++;``` are legal, while ```a = pa;``` or ```a++;``` are not\n"
   ]
  },
  {
   "cell_type": "code",
   "execution_count": 3,
   "metadata": {},
   "outputs": [
    {
     "name": "stdout",
     "output_type": "stream",
     "text": [
      "   a = 7\n",
      "  pa = 0x7ff7bfb0b21c\n",
      " *pa = 7\n",
      "  &a = 0x7ff7bfb0b21c\n",
      " &pa = 0x7ff7bfb0b210\n",
      "&*pa = 0x7ff7bfb0b21c\n",
      "*&pa = 0x7ff7bfb0b21c\n",
      "   b = 7\n"
     ]
    }
   ],
   "source": [
    "! g++ -o ex0 ex0.cpp\n",
    "! ./ex0"
   ]
  },
  {
   "cell_type": "markdown",
   "metadata": {},
   "source": [
    "A useful remark: we can either write\\\n",
    "```#include <iostream>```\\\n",
    "```int main()```\\\n",
    "```{```\\\n",
    "```std::cout << \"Hello world! << std::endl;```\\\n",
    "```}```\\\n",
    "but we can also write\\\n",
    "```#include <iostream>```\\\n",
    "```using namespace std;```\\\n",
    "```int main()```\\\n",
    "```{```\\\n",
    "```cout << \"Hello world! << endl;```\\\n",
    "```}```"
   ]
  },
  {
   "cell_type": "markdown",
   "metadata": {},
   "source": [
    "To create an _alias_ to a variable, we can proceed as follows:\\\n",
    "```int var = 18;```\\\n",
    "```int & refToVar = var;```\\\n",
    "and every time we modify the variable, our alias gets modified as well, and also the viceversa holds."
   ]
  },
  {
   "cell_type": "code",
   "execution_count": 5,
   "metadata": {},
   "outputs": [
    {
     "name": "stdout",
     "output_type": "stream",
     "text": [
      "var = 18\n",
      "refToVar = 18\n",
      "&refToVar = 0x7ff7bea2920c\n",
      "\n",
      "var = 20\n",
      "ptrToVar = 0x7ff7bea2920c\n",
      "*ptrToVar = 20\n",
      "\n",
      "ptrToVar = 0x7ff7bea2920c\n",
      "*ptrToVar = 20\n"
     ]
    }
   ],
   "source": [
    "! g++ -o ex0bis ex0bis.cpp\n",
    "! ./ex0bis"
   ]
  },
  {
   "cell_type": "markdown",
   "metadata": {},
   "source": [
    "We can concatenate the compilation and the execution of the program by using the ```&&``` operator. The compilation through ```g++``` returns a boolean, i.e. ```True``` if the compilation was successful or ```False``` if something went wrong. In the latter case, the concatenation does not go on, which is important e.g. in order not to run previous versions of the code which did not give any error."
   ]
  },
  {
   "cell_type": "code",
   "execution_count": 9,
   "metadata": {},
   "outputs": [
    {
     "name": "stdout",
     "output_type": "stream",
     "text": [
      "0 -> 0 1 -> 1 2 -> 2 3 -> 3 \n",
      "0 -> 10 1 -> 11 2 -> 12 3 -> 13 4 -> 14 5 -> 15 6 -> 16 \n"
     ]
    }
   ],
   "source": [
    "! g++ -o ex0ter ex0ter.cpp && ./ex0ter"
   ]
  },
  {
   "cell_type": "markdown",
   "metadata": {},
   "source": [
    "The above code would be better optimized thorugh the use of _functions_."
   ]
  },
  {
   "cell_type": "markdown",
   "metadata": {},
   "source": [
    "## Functions\n",
    "Functions allow to structure programs in segments of code to perform individual tasks.\\\n",
    "The formal structure of a function is the following (see also ex4.cpp):\\\n",
    "<font color='red'> Return-type <font color='blue'> identifier (<font color='orange'>par1 <font color='blue'>, <font color='orange'>par2<font color='blue'>, ...) { </font> **statement's body** <font color='blue'> ;} <font color='white'>\\\n",
    "e.g.\\\n",
    "```double compute(int , std::vector<double> , TH1F * ) ;```\\\n",
    "```double compute(int i, std::vector<double> v, TH1F * fun)```\\\n",
    "```{```\\\n",
    "```  ...```\\\n",
    "```}```\\\n",
    "``` ... ```\\\n",
    "```double r = compute(56, vec(), f) ;```"
   ]
  },
  {
   "cell_type": "markdown",
   "metadata": {},
   "source": [
    "The default mechanism in **C++** is _by-value_: a value parameter is copied (the value is transferred) to the corresponding actual parameter, which then becomes a local variable to the body of the function.\\\n",
    "This default mechanism can be superseeded by passing a reference of the parameter. In this case, only a 32-bit number is copied so that the two objects are actually the same (no physical copy is made). This of course has potentially huge implications in the efficiency of a running program."
   ]
  }
 ],
 "metadata": {
  "interpreter": {
   "hash": "aee8b7b246df8f9039afb4144a1f6fd8d2ca17a180786b69acc140d282b71a49"
  },
  "kernelspec": {
   "display_name": "Python 3.10.0 64-bit",
   "language": "python",
   "name": "python3"
  },
  "language_info": {
   "codemirror_mode": {
    "name": "ipython",
    "version": 3
   },
   "file_extension": ".py",
   "mimetype": "text/x-python",
   "name": "python",
   "nbconvert_exporter": "python",
   "pygments_lexer": "ipython3",
   "version": "3.10.0"
  },
  "orig_nbformat": 4
 },
 "nbformat": 4,
 "nbformat_minor": 2
}
