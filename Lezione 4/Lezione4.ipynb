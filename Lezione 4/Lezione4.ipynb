{
 "cells": [
  {
   "cell_type": "markdown",
   "metadata": {},
   "source": [
    "# Lezione 4\n",
    "\n",
    "## Recursiveness"
   ]
  },
  {
   "cell_type": "markdown",
   "metadata": {},
   "source": [
    "Fibonacci series: see ex16.cpp"
   ]
  },
  {
   "cell_type": "code",
   "execution_count": 2,
   "metadata": {},
   "outputs": [
    {
     "name": "stdout",
     "output_type": "stream",
     "text": [
      "0\n",
      "1\n",
      "1\n",
      "2\n",
      "3\n",
      "5\n",
      "8\n",
      "13\n",
      "21\n",
      "34\n",
      "55\n",
      "89\n",
      "144\n",
      "233\n",
      "377\n",
      "610\n",
      "987\n",
      "1597\n",
      "2584\n",
      "4181\n",
      "6765\n"
     ]
    }
   ],
   "source": [
    "!g++ -o ex16 ex16.cpp && ./ex16"
   ]
  },
  {
   "cell_type": "markdown",
   "metadata": {},
   "source": [
    "Protection against recursion using pre-processor directives: see ex17.cpp, ex17_a.h, ex17_B.h"
   ]
  },
  {
   "cell_type": "code",
   "execution_count": 3,
   "metadata": {},
   "outputs": [
    {
     "name": "stdout",
     "output_type": "stream",
     "text": [
      "\u001b[1mex17.cpp:2:10: \u001b[0m\u001b[0;1;31merror: \u001b[0m\u001b[1m'ex17_A.h' file not found with <angled> include; use \"quotes\" instead\u001b[0m\n",
      "#include <ex17_A.h>\n",
      "\u001b[0;1;32m         ^~~~~~~~~~\n",
      "\u001b[0m\u001b[0;32m         \"ex17_A.h\"\n",
      "\u001b[0mIn file included from ex17.cpp:2:\n",
      "\u001b[1m./ex17_A.h:1:10: \u001b[0m\u001b[0;1;31merror: \u001b[0m\u001b[1m'ex17_B.h' file not found with <angled> include; use \"quotes\" instead\u001b[0m\n",
      "#include <ex17_B.h>\n",
      "\u001b[0;1;32m         ^~~~~~~~~~\n",
      "\u001b[0m\u001b[0;32m         \"ex17_B.h\"\n",
      "\u001b[0m\u001b[1mex17.cpp:3:10: \u001b[0m\u001b[0;1;31merror: \u001b[0m\u001b[1m'ex17_B.h' file not found with <angled> include; use \"quotes\" instead\u001b[0m\n",
      "#include <ex17_B.h>\n",
      "\u001b[0;1;32m         ^~~~~~~~~~\n",
      "\u001b[0m\u001b[0;32m         \"ex17_B.h\"\n",
      "\u001b[0mIn file included from ex17.cpp:3:\n",
      "\u001b[1m./ex17_B.h:1:5: \u001b[0m\u001b[0;1;31merror: \u001b[0m\u001b[1mredefinition of 'j'\u001b[0m\n",
      "int j ;\n",
      "\u001b[0;1;32m    ^\n",
      "\u001b[0m\u001b[1m./ex17_A.h:1:10: \u001b[0m\u001b[0;1;30mnote: \u001b[0m'./ex17_B.h' included multiple times, additional include site here\u001b[0m\n",
      "#include <ex17_B.h>\n",
      "\u001b[0;1;32m         ^\n",
      "\u001b[0m\u001b[1mex17.cpp:3:10: \u001b[0m\u001b[0;1;30mnote: \u001b[0m'./ex17_B.h' included multiple times, additional include site here\u001b[0m\n",
      "#include <ex17_B.h>\n",
      "\u001b[0;1;32m         ^\n",
      "\u001b[0m\u001b[1m./ex17_B.h:1:5: \u001b[0m\u001b[0;1;30mnote: \u001b[0munguarded header; consider using #ifdef guards or #pragma once\u001b[0m\n",
      "int j ;\n",
      "\u001b[0;1;32m    ^\n",
      "\u001b[0m4 errors generated.\n"
     ]
    }
   ],
   "source": [
    "!g++ -o ex17 ex17.cpp"
   ]
  },
  {
   "cell_type": "code",
   "execution_count": 4,
   "metadata": {},
   "outputs": [
    {
     "name": "stdout",
     "output_type": "stream",
     "text": [
      "In file included from ex17.cpp:3:\n",
      "\u001b[1m./ex17_B.h:1:5: \u001b[0m\u001b[0;1;31merror: \u001b[0m\u001b[1mredefinition of 'j'\u001b[0m\n",
      "int j ;\n",
      "\u001b[0;1;32m    ^\n",
      "\u001b[0m\u001b[1m./ex17_A.h:1:10: \u001b[0m\u001b[0;1;30mnote: \u001b[0m'./ex17_B.h' included multiple times, additional include site here\u001b[0m\n",
      "#include <ex17_B.h>\n",
      "\u001b[0;1;32m         ^\n",
      "\u001b[0m\u001b[1mex17.cpp:3:10: \u001b[0m\u001b[0;1;30mnote: \u001b[0m'./ex17_B.h' included multiple times, additional include site here\u001b[0m\n",
      "#include <ex17_B.h>\n",
      "\u001b[0;1;32m         ^\n",
      "\u001b[0m\u001b[1m./ex17_B.h:1:5: \u001b[0m\u001b[0;1;30mnote: \u001b[0munguarded header; consider using #ifdef guards or #pragma once\u001b[0m\n",
      "int j ;\n",
      "\u001b[0;1;32m    ^\n",
      "\u001b[0m1 error generated.\n"
     ]
    }
   ],
   "source": [
    "!g++ -o ex17 -I./ ex17.cpp"
   ]
  },
  {
   "cell_type": "code",
   "execution_count": 5,
   "metadata": {},
   "outputs": [
    {
     "name": "stdout",
     "output_type": "stream",
     "text": [
      "In file included from ex17.cpp:3:\n",
      "\u001b[1m./ex17_B.h:1:5: \u001b[0m\u001b[0;1;31merror: \u001b[0m\u001b[1mredefinition of 'j'\u001b[0m\n",
      "int j ;\n",
      "\u001b[0;1;32m    ^\n",
      "\u001b[0m\u001b[1m./ex17_B.h:1:5: \u001b[0m\u001b[0;1;30mnote: \u001b[0mprevious definition is here\u001b[0m\n",
      "int j ;\n",
      "\u001b[0;1;32m    ^\n",
      "\u001b[0m1 error generated.\n"
     ]
    }
   ],
   "source": [
    "!g++ -o ex17 -I./ -save-temps ex17.cpp"
   ]
  },
  {
   "cell_type": "code",
   "execution_count": 6,
   "metadata": {},
   "outputs": [
    {
     "name": "stdout",
     "output_type": "stream",
     "text": [
      "-rw-r--r--  1 MatteoSaccardi  staff      167 Jan 20 14:25 ex17.cpp\n",
      "-rw-r--r--  1 MatteoSaccardi  staff  1596134 Jan 20 14:26 ex17.ii\n",
      "-rw-r--r--  1 MatteoSaccardi  staff       28 Jan 20 14:24 ex17_A.h\n",
      "-rw-r--r--  1 MatteoSaccardi  staff        7 Jan 20 14:24 ex17_B.h\n"
     ]
    }
   ],
   "source": [
    "ll ex17*"
   ]
  },
  {
   "cell_type": "markdown",
   "metadata": {},
   "source": [
    "The file ex17.ii contains expansions of my code, i.e. the preprocessor reads ex17.cpp and redefines it with expanding #include ..."
   ]
  },
  {
   "cell_type": "code",
   "execution_count": 10,
   "metadata": {},
   "outputs": [
    {
     "name": "stdout",
     "output_type": "stream",
     "text": [
      "\u001b7\u001b[?47h\u001b[>4;2m\u001b[?1h\u001b=\u001b[?2004h\u001b[?1004h\u001b[1;24r\u001b[?12h\u001b[?12l\u001b[22;2t\u001b[22;1t\u001b[29m\u001b[m\u001b[H\u001b[2J\u001b[?25l\u001b[24;1H\"ex17.ii\" 43105L, 1596134B\u001b[2;1H▽\u001b[6n\u001b[2;1H  \u001b[3;1H\u001bPzz\u001b\\\u001b[0%m\u001b[6n\u001b[3;1H           \u001b[1;1H\u001b[>c\u001b]10;?\u0007\u001b]11;?\u0007\u001b[1;1H# 1 \"ex17.cpp\"\n",
      "# 1 \"<built-in>\" 1\u001b[2;19H\u001b[K\u001b[3;1H# 1 \"<built-in>\" 3\u001b[3;19H\u001b[K\u001b[4;1H# 382 \"<built-in>\" 3\n",
      "# 1 \"<command line>\" 1\n",
      "# 1 \"<built-in>\" 2\n",
      "# 1 \"ex17.cpp\" 2\n",
      "# 1 \"/Applications/Xcode.app/Contents/Developer/Platforms/MacOSX.platform/Develoo\u001b[9;1Hper/SDKs/MacOSX.sdk/usr/include/c++/v1/iostream\" 1 3\n",
      "# 36 \"/Applications/Xcode.app/Contents/Developer/Platforms/MacOSX.platform/Devell\u001b[11;1Hoper/SDKs/MacOSX.sdk/usr/include/c++/v1/iostream\" 3\n",
      "# 1 \"/Applications/Xcode.app/Contents/Developer/Platforms/MacOSX.platform/Develoo\u001b[13;1Hper/SDKs/MacOSX.sdk/usr/include/c++/v1/__config\" 1 3\n",
      "# 61 \"/Applications/Xcode.app/Contents/Developer/Platforms/MacOSX.platform/Devell\u001b[15;1Hoper/SDKs/MacOSX.sdk/usr/include/c++/v1/__config\" 3\n",
      "# 507 \"/Applications/Xcode.app/Contents/Developer/Platforms/MacOSX.platform/Devee\u001b[17;1Hloper/SDKs/MacOSX.sdk/usr/include/c++/v1/__config\" 3\n",
      "typedef __char16_t char16_t;\n",
      "typedef __char32_t char32_t;\n",
      "# 857 \"/Applications/Xcode.app/Contents/Developer/Platforms/MacOSX.platform/Devee\u001b[21;1Hloper/SDKs/MacOSX.sdk/usr/include/c++/v1/__config\" 3\n",
      "namespace std { inline namespace __1 { } }\n",
      "# 37 \"/Applications/Xcode.app/Contents/Developer/Platforms/MacOSX.platform/Devel\u001b[23;1H\u001b[1m\u001b[34m@                                                                               \u001b[1;1H\u001b[?25h\u001b[?25l\u001b[m\u001b[24;1HType  :qa  and press <Enter> to exit Vim\u0007\u001b[1;1H\u001b[?25h"
     ]
    }
   ],
   "source": [
    "!vim ex17.ii"
   ]
  },
  {
   "cell_type": "markdown",
   "metadata": {},
   "source": [
    "So, we have recursiveness issues. We can fix them by adding #ifndef ... #endif. See ex17bis.cpp, ex17_Abis.h, ex17_Bbis.h"
   ]
  },
  {
   "cell_type": "code",
   "execution_count": 14,
   "metadata": {},
   "outputs": [],
   "source": [
    "!g++ -o ex17bis -I./ ex17bis.cpp"
   ]
  },
  {
   "cell_type": "markdown",
   "metadata": {},
   "source": [
    "Imagine now having a code with\n",
    "\n",
    "``#ifdef _SWITCH_DBG_ON_``\n",
    "\n",
    "``... code ...``\n",
    "\n",
    "``#endif``\n",
    "\n",
    "then we can run with\n",
    "\n",
    "**g++ -o code code.cc -I./**\n",
    "\n",
    "and the code in the #ifdef will not be included in the compilation nor executed. To activate debug mode, then we run\n",
    "\n",
    "**g++ -o code code.cc -D_SWITCH_DBG_ON_ -I./**"
   ]
  },
  {
   "cell_type": "code",
   "execution_count": 16,
   "metadata": {},
   "outputs": [
    {
     "name": "stdout",
     "output_type": "stream",
     "text": [
      "This is file   : ex18.cpp\n",
      "Function (more): void myFunction(double)\n",
      "Function (less): myFunction\n",
      "At line        : 17\n",
      "Compiled       : Jan 20 2022\n",
      "Time           : 14:51:36\n"
     ]
    }
   ],
   "source": [
    "!g++ -o ex18 ex18.cpp && ./ex18"
   ]
  },
  {
   "cell_type": "markdown",
   "metadata": {},
   "source": [
    "## Memory allocation\n",
    "C and C++ allow for **dynamic allocation of memory**.\n",
    "``void* malloc ( size_t size ) ;``\n",
    "Allocate memory block: allocates a block of *size* bytes of memory, returning a pointer to the beginning of the block.\\\n",
    "The content of the newly allocated block of memory is not initialized, remaining with indeterminate values."
   ]
  },
  {
   "cell_type": "code",
   "execution_count": 21,
   "metadata": {},
   "outputs": [],
   "source": [
    "!g++ -o ex19 ex19.cpp\n",
    "# run on terminal\n",
    "# ./ex19\n",
    "# Enter length: 5\n",
    "# brlwn"
   ]
  },
  {
   "cell_type": "code",
   "execution_count": 25,
   "metadata": {},
   "outputs": [
    {
     "name": "stdout",
     "output_type": "stream",
     "text": [
      "0 -  i: 0 d: 0\n",
      "1 -  i: 1 d: 1\n",
      "2 -  i: 2 d: 1.41421\n",
      "3 -  i: 3 d: 1.73205\n"
     ]
    }
   ],
   "source": [
    "!g++ -o ex20 ex20.cpp && ./ex20\n"
   ]
  },
  {
   "cell_type": "markdown",
   "metadata": {},
   "source": [
    "To catch errors, fpclassify in cmath: https://en.cppreference.com/w/cpp/numeric/math/fpclassify\\\n",
    "e.g.\\\n",
    "``double d = 1.0/0.0;``\\\n",
    "``switch(fpclassify(d)) {``\\\n",
    "   ``case FP_INFINITE: print(\"infinite\"); break;``\\\n",
    "    ``case FP_NAN: ...`` \\\n",
    "``}``\\\n",
    "See fpclassify_example.cpp"
   ]
  },
  {
   "cell_type": "markdown",
   "metadata": {},
   "source": [
    "### Debugger\n",
    "The debugger is dbg:\n",
    "- run from line x to line y and inspect variables values;\n",
    "- run the code line by line;\n",
    "- debugging level = None."
   ]
  },
  {
   "cell_type": "markdown",
   "metadata": {},
   "source": [
    "### Goto\n",
    "A while loop is mathematically equivalent to a goto, which takes you from one place of the code to another."
   ]
  },
  {
   "cell_type": "code",
   "execution_count": 26,
   "metadata": {},
   "outputs": [
    {
     "name": "stdout",
     "output_type": "stream",
     "text": [
      "Calling compute, value = 0...compute(10) called\n",
      "Calling compute, value = 11...compute(11) called\n",
      "Calling compute, value = 12...compute(12) called\n",
      "Calling compute, value = 13...compute(13) called\n",
      "Calling compute, value = 14...compute(14) called\n",
      "Calling compute, value = 15...compute(15) called\n",
      "Calling compute, value = 16...compute(16) called\n",
      "Calling compute, value = 17...compute(17) called\n",
      "Calling compute, value = 18...compute(18) called\n",
      "Calling compute, value = 19...compute(19) called\n",
      "Calling compute, value = 20...compute(20) called\n",
      "Done!\n"
     ]
    }
   ],
   "source": [
    "!g++ -o longJump longJump.cpp && ./longJump"
   ]
  }
 ],
 "metadata": {
  "interpreter": {
   "hash": "aee8b7b246df8f9039afb4144a1f6fd8d2ca17a180786b69acc140d282b71a49"
  },
  "kernelspec": {
   "display_name": "Python 3.10.0 64-bit",
   "language": "python",
   "name": "python3"
  },
  "language_info": {
   "codemirror_mode": {
    "name": "ipython",
    "version": 3
   },
   "file_extension": ".py",
   "mimetype": "text/x-python",
   "name": "python",
   "nbconvert_exporter": "python",
   "pygments_lexer": "ipython3",
   "version": "3.10.0"
  },
  "orig_nbformat": 4
 },
 "nbformat": 4,
 "nbformat_minor": 2
}
