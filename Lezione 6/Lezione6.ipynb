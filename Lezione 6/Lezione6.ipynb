{
 "cells": [
  {
   "cell_type": "markdown",
   "metadata": {},
   "source": [
    "# Lezione 6\n"
   ]
  },
  {
   "cell_type": "code",
   "execution_count": 6,
   "metadata": {},
   "outputs": [
    {
     "name": "stdout",
     "output_type": "stream",
     "text": [
      "14\n",
      "19\n",
      "String A\n"
     ]
    }
   ],
   "source": [
    "!g++ -o noCtor noCtor.cpp && ./noCtor"
   ]
  },
  {
   "cell_type": "markdown",
   "metadata": {},
   "source": [
    "## The stack and the heap\n",
    "- **code** segment: contains the machine instructions of the program (translated from assembler by the compiler), similar to the story of the program, declares what the program does; since additional instructions cannot be added by a program at run time, the size of this block is fixed at compile time\n",
    "- **data** segment: contains global, static variables, cannot change at run time, fixed size\n",
    "- **stack** segment: contains temporary allocated variables but has fixed, constant size; since the number of those variables can change at run time, also the size of this segment can vary, growing *downward*;\n",
    "- **free** segment: variable amount of memory available to the program at run time;\n",
    "- **heap** segment: contains temporary allocated variables, also dynamically allocated by `new` or `malloc` operators; variable size, growing *upward*, taking space from the free segment until there is space available.\n",
    "\n",
    "The `new` operator dynamically allocates space on the heap, taking space away from the free segment. See `makeParticle.cpp`, `makeParticleStack.cpp` and `heap.cpp`."
   ]
  },
  {
   "cell_type": "markdown",
   "metadata": {},
   "source": [
    "In `heap.cpp`: the heap memory chunk necessary to contain a Particle is created with the new operator, then the pointer is passed to the manipulate function. When we reach the end of the main function, though, the particle1 pointer will no longer be accessible (\"out-of-scope\"), but the memory allocated will still be present in the heap!! This is called a *memory-leak*.\n",
    "\n",
    "In `stack.cpp`, instead, there is no pointer defined (we use & instead of * to pass the Particle to the manipulate function). When the particle1 reference goes out-of-scope, the memory allocated will be removed from the stack.\n",
    "\n",
    "In `stackHeap.cpp`, we define two **polymorphic** forward declarations, one for passing a reference of an object on the stack and one on the heap. "
   ]
  },
  {
   "cell_type": "code",
   "execution_count": 7,
   "metadata": {},
   "outputs": [
    {
     "name": "stdout",
     "output_type": "stream",
     "text": [
      "\u001b[01m\u001b[KstackHeap.cpp:2:10:\u001b[m\u001b[K \u001b[01;31m\u001b[Kfatal error: \u001b[m\u001b[KparticleD.h: File o directory non esistente\n",
      "    2 | #include \u001b[01;31m\u001b[K<particleD.h>\u001b[m\u001b[K\n",
      "      |          \u001b[01;31m\u001b[K^~~~~~~~~~~~~\u001b[m\u001b[K\n",
      "compilation terminated.\n"
     ]
    }
   ],
   "source": [
    "!g++ -o stackHeap stackHeap.cpp && ./stackHeap"
   ]
  }
 ],
 "metadata": {
  "interpreter": {
   "hash": "916dbcbb3f70747c44a77c7bcd40155683ae19c65e1c03b4aa3499c5328201f1"
  },
  "kernelspec": {
   "display_name": "Python 3.8.10 64-bit",
   "language": "python",
   "name": "python3"
  },
  "language_info": {
   "codemirror_mode": {
    "name": "ipython",
    "version": 3
   },
   "file_extension": ".py",
   "mimetype": "text/x-python",
   "name": "python",
   "nbconvert_exporter": "python",
   "pygments_lexer": "ipython3",
   "version": "3.8.10"
  },
  "orig_nbformat": 4
 },
 "nbformat": 4,
 "nbformat_minor": 2
}
