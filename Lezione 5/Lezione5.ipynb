{
 "cells": [
  {
   "cell_type": "markdown",
   "metadata": {},
   "source": [
    "# Lezione 5\n",
    "\n",
    "## Signal\n",
    "This mechanism allows to call user-defined functions whenever a signal is issued, useful with external devices to call a function depending upon the kind of signal which is emitted.\\\n",
    "See ``signal.cpp``."
   ]
  },
  {
   "cell_type": "code",
   "execution_count": 1,
   "metadata": {},
   "outputs": [
    {
     "name": "stdout",
     "output_type": "stream",
     "text": [
      "Do some lengthy processing...\n",
      "Do some lengthy processing...\n",
      "Do some lengthy processing...\n",
      "Do some lengthy processing...\n",
      "\n",
      "Request to save data\n",
      "Do some lengthy processing...\n",
      "\n",
      "Job cleaned up...\n"
     ]
    }
   ],
   "source": [
    "!g++ -o signal signal.cpp && ./signal"
   ]
  },
  {
   "cell_type": "markdown",
   "metadata": {},
   "source": [
    "## Rename\n",
    "We might want to create a code which can be run on all operating systems. Though, \"mv\", \"cp\", ... only work on Linux and not on Windows, so we might need to change the commands. See ``rename_example.cpp``.\\\n",
    "OSS: the best way to print strings is with a *buffer*, so with **fflush** we optimize the printing by waiting for the buffer to be filled before printing the output."
   ]
  },
  {
   "cell_type": "markdown",
   "metadata": {},
   "source": [
    "## I/O files\n",
    "We have **fopen**, see ``fopen_example.cpp``."
   ]
  },
  {
   "cell_type": "markdown",
   "metadata": {},
   "source": [
    "**Now, we go to the slides of Lesson 2!!!!**"
   ]
  },
  {
   "cell_type": "markdown",
   "metadata": {},
   "source": [
    "## C++ basics\n",
    "C++ is a general-purpose programming language with a bias towards system programming that:\n",
    "- is a better C\n",
    "- supports **data abstraction** (separating the abstract properties of data types and the concrete details of implementation)\n",
    "- supports **object-oriented programming** and\n",
    "- supports **generic programming** (e.g. re-ordering is made independent of the objects to be re-ordered)."
   ]
  },
  {
   "cell_type": "markdown",
   "metadata": {},
   "source": [
    "- **Abstraction**: facility to define objects that represent abstract \"actors\" that can perform work, report on a change of their internal state, and \"communicate\" with other objects in the system.\n",
    "- **Generic programming**: algorithms are written in terms of to-be-specified-later types that are then instantiated when needed for specific types provided as parameters.\n"
   ]
  },
  {
   "cell_type": "markdown",
   "metadata": {},
   "source": [
    "### Classes and objects"
   ]
  },
  {
   "cell_type": "code",
   "execution_count": 2,
   "metadata": {},
   "outputs": [
    {
     "name": "stdout",
     "output_type": "stream",
     "text": [
      "D = 7.22911\n"
     ]
    }
   ],
   "source": [
    "!g++ -o point point.cpp && ./point"
   ]
  },
  {
   "cell_type": "code",
   "execution_count": 3,
   "metadata": {},
   "outputs": [
    {
     "name": "stdout",
     "output_type": "stream",
     "text": [
      "D = 7.22911\n"
     ]
    }
   ],
   "source": [
    "!g++ -o pointStruct pointStruct.cpp && ./pointStruct"
   ]
  },
  {
   "cell_type": "markdown",
   "metadata": {},
   "source": [
    "A **class** is an abstract *description*, adhering to a particular language syntax, of what a specific object is and can do. An **object** is a *concrete realization* of a class.\n",
    "\n",
    "See ``particle.h`` for an example on class declaration:\n",
    "- An object is represented by its internal state at any given time. It is a good thing to keep the inner state protected from the outside, a principle called **encapsulation** so a few keywords are available to assess the level of accessibility of variables (and methods, functions): ``public: ``, ``private: ``. In this sense, a class is basically a struct with private members (while they are public for structs, since the keywords public and private were not present in C).\n",
    "- Methods are accessors. They can be divided into \"getters\" and \"setters\".\n",
    "- The particle is defined by the private variables, while what a particle can do is defined by the public ones.\n",
    "- We also need a constructor and a destructor.\n",
    "- ``int i;`` int is a class, i is an object of type int.\n",
    "- The actual implementation is written in a new file, ``particle.cc``. We can also include different implementations, with the same header file.\n",
    "- Class usage: the main, see ``makeParticle.cpp``.\n",
    "\n",
    "OSS: a ``main`` always returns an integer that is used by the OS to establish if a program has terminated normally (``0``) or abnormally (any other value). This mechanism is useful in particular when the program is called from within a script:"
   ]
  },
  {
   "cell_type": "code",
   "execution_count": 4,
   "metadata": {},
   "outputs": [],
   "source": [
    "!g++ -o return0 return0.cpp"
   ]
  },
  {
   "cell_type": "code",
   "execution_count": 5,
   "metadata": {},
   "outputs": [
    {
     "name": "stdout",
     "output_type": "stream",
     "text": [
      "This program does something...\n",
      "\n",
      "mar 25 gen 2022, 15:56:50, CET\n"
     ]
    }
   ],
   "source": [
    "!./return0 && date"
   ]
  },
  {
   "cell_type": "code",
   "execution_count": 6,
   "metadata": {},
   "outputs": [],
   "source": [
    "!g++ -o return1 return1.cpp"
   ]
  },
  {
   "cell_type": "code",
   "execution_count": 7,
   "metadata": {},
   "outputs": [
    {
     "name": "stdout",
     "output_type": "stream",
     "text": [
      "This program does something...\n",
      "\n"
     ]
    }
   ],
   "source": [
    "!./return1 && date"
   ]
  }
 ],
 "metadata": {
  "interpreter": {
   "hash": "916dbcbb3f70747c44a77c7bcd40155683ae19c65e1c03b4aa3499c5328201f1"
  },
  "kernelspec": {
   "display_name": "Python 3.8.10 64-bit",
   "language": "python",
   "name": "python3"
  },
  "language_info": {
   "codemirror_mode": {
    "name": "ipython",
    "version": 3
   },
   "file_extension": ".py",
   "mimetype": "text/x-python",
   "name": "python",
   "nbconvert_exporter": "python",
   "pygments_lexer": "ipython3",
   "version": "3.8.10"
  },
  "orig_nbformat": 4
 },
 "nbformat": 4,
 "nbformat_minor": 2
}
