{
 "cells": [
  {
   "cell_type": "markdown",
   "metadata": {},
   "source": [
    "# Lezione 3"
   ]
  },
  {
   "cell_type": "markdown",
   "metadata": {},
   "source": [
    "## Functions\n",
    "The default mechanism in **C++** is _by-value_: a value parameter is copied (the value is transferred) to the corresponding actual parameter, which then becomes a local variable to the body of the function.\\\n",
    "This default mechanism can be superseeded by passing a reference of the parameter. In this case, only a 32-bit number is copied so that the two objects are actually the same (no physical copy is made). This of course has potentially huge implications in the efficiency of a running program."
   ]
  },
  {
   "cell_type": "code",
   "execution_count": 3,
   "metadata": {},
   "outputs": [
    {
     "name": "stdout",
     "output_type": "stream",
     "text": [
      "v[10] = 10\n",
      "v[10] = 1234\n",
      "The sums are: sa = 4950, sb = 4950\n"
     ]
    }
   ],
   "source": [
    "! g++ -o ex5 ex5.cpp && ./ex5"
   ]
  },
  {
   "cell_type": "markdown",
   "metadata": {},
   "source": [
    "``sizeof(a)/sizeof(int)`` is an efficient way to determine the length of the ``int`` array ``a``."
   ]
  },
  {
   "cell_type": "code",
   "execution_count": 5,
   "metadata": {},
   "outputs": [
    {
     "name": "stdout",
     "output_type": "stream",
     "text": [
      " a[5] = 15\n",
      "(*a + 5) = 15\n",
      "*(a + 5) = 15\n"
     ]
    }
   ],
   "source": [
    "! g++ -o ex9 ex9.cpp && ./ex9"
   ]
  },
  {
   "cell_type": "markdown",
   "metadata": {},
   "source": [
    "Arrays of arrays are also called matrices. The dimension of the matrix in ex10.cpp is specified through a directive to the preprocessor ``#define DIM 4`` i.e. with a named symbol, instead of a numeric constant. It is useful to avoid repetitions of numerical values which we may want to change."
   ]
  },
  {
   "cell_type": "code",
   "execution_count": 6,
   "metadata": {},
   "outputs": [
    {
     "name": "stdout",
     "output_type": "stream",
     "text": [
      "\u001b[1mex10.cpp:22:74: \u001b[0m\u001b[0;1;35mwarning: \u001b[0m\u001b[1munsequenced modification and access to 'c' [-Wunsequenced]\u001b[0m\n",
      "            cout << \"m[\" << r << \"][\" << c << \"] = \" << setw(2) << m[r][c++] << \"  \" ;\n",
      "\u001b[0;1;32m                                         ~                               ^\n",
      "\u001b[0m1 warning generated.\n",
      "m[0][0] =  2  m[0][1] = 21  m[0][2] =  0  m[0][3] =  0  \n",
      "m[1][0] = 43  m[1][1] =  0  m[1][2] = 11  m[1][3] = 13  \n",
      "m[2][0] = 12  m[2][1] =  4  m[2][2] = 65  m[2][3] =  0  \n",
      "m[3][0] =  3  m[3][1] =  0  m[3][2] =  0  m[3][3] =  0  \n",
      "\n"
     ]
    }
   ],
   "source": [
    "! g++ -o ex10 ex10.cpp && ./ex10"
   ]
  },
  {
   "cell_type": "markdown",
   "metadata": {},
   "source": [
    "If we wanted to store vectors of different dimensions, e.g.\\\n",
    "( 2, 21)\\\n",
    "(43,  0, 11, 13)\\\n",
    "(12,  4, 65)\\\n",
    "( 3)\\\n",
    "we can understand that this solution is not satisfactory, since we had to create a matrix of dimension 4 and fill it with meaningless zeros which occupy some memory.\\\n",
    "A more efficient way is to create an array of pointers to different arrays, see ex11.cpp."
   ]
  },
  {
   "cell_type": "code",
   "execution_count": 7,
   "metadata": {},
   "outputs": [
    {
     "name": "stdout",
     "output_type": "stream",
     "text": [
      "      2       21  39387147  220068376  \n",
      "     43        0       11       13  \n",
      "     12        4       65       43  \n",
      "      3        2        3        0  \n",
      "\n"
     ]
    }
   ],
   "source": [
    "! g++ -o ex11 ex11.cpp && ./ex11"
   ]
  },
  {
   "cell_type": "markdown",
   "metadata": {},
   "source": [
    "Though, inspecting the array with the largest size of the arrays is not correct. See ex12.cpp."
   ]
  },
  {
   "cell_type": "code",
   "execution_count": 8,
   "metadata": {},
   "outputs": [
    {
     "name": "stdout",
     "output_type": "stream",
     "text": [
      "      2       21  \n",
      "     43        0       11       13  \n",
      "     12        4       65  \n",
      "      3  \n",
      "\n"
     ]
    }
   ],
   "source": [
    "! g++ -o ex12 ex12.cpp && ./ex12"
   ]
  },
  {
   "cell_type": "markdown",
   "metadata": {},
   "source": [
    "The general rule to move from the address of any kind of entity to the next, contiguous one, is the following. Let's define a pointer to an object of type ``T`` and call it ``p``:\\\n",
    "``T* p`` and suppose that ``p[0]=0x7fff15ae6770``.\\\n",
    "Suppose also that a type ``T`` needs 348 bytes to be allocated and move from location ``i`` to ``j=3``.\\\n",
    "Then ``p[i]+j = p[i]+sizeof(T)*j`` (p[i]=0x7fff15ae6770 + 348*3 = 0x7fff15ae6b84)."
   ]
  },
  {
   "cell_type": "markdown",
   "metadata": {},
   "source": [
    "## Pointer to pointer (**)"
   ]
  },
  {
   "cell_type": "markdown",
   "metadata": {},
   "source": [
    "Most complete form of the main function signature: see ex13.cpp."
   ]
  },
  {
   "cell_type": "code",
   "execution_count": 9,
   "metadata": {},
   "outputs": [
    {
     "name": "stdout",
     "output_type": "stream",
     "text": [
      "./ex13, goofy, 123, donald\n"
     ]
    }
   ],
   "source": [
    "! g++ -o ex13 ex13.cpp && ./ex13 goofy 123 donald"
   ]
  },
  {
   "cell_type": "markdown",
   "metadata": {},
   "source": [
    "OSS: we could use ``char* argv[]`` or ``char** argv``. See ex14.cpp. Note the difference in printing."
   ]
  },
  {
   "cell_type": "code",
   "execution_count": 10,
   "metadata": {},
   "outputs": [
    {
     "name": "stdout",
     "output_type": "stream",
     "text": [
      "./ex14, goofy, 123, donald\n"
     ]
    }
   ],
   "source": [
    "! g++ -o ex14 ex14.cpp && ./ex14 goofy 123 donald"
   ]
  },
  {
   "cell_type": "code",
   "execution_count": 12,
   "metadata": {},
   "outputs": [
    {
     "name": "stdout",
     "output_type": "stream",
     "text": [
      "\u001b[1mex14bis.cpp:18:9: \u001b[0m\u001b[0;1;35mwarning: \u001b[0m\u001b[1mexpression result unused [-Wunused-value]\u001b[0m\n",
      "        *argv++;\n",
      "\u001b[0;1;32m        ^~~~~~~\n",
      "\u001b[0m1 warning generated.\n",
      "argc=3]  *argv    : ./ex14bis\n",
      "argc=3]  *argv [0]: .\n",
      "argc=3]  *argv [1]: g\n",
      "argc=3] (*argv) [0]: .\n",
      "argc=2]  *argv    : goofy\n",
      "argc=2]  *argv [0]: g\n",
      "argc=2]  *argv [1]: 1\n",
      "argc=2] (*argv) [0]: g\n",
      "argc=1]  *argv    : 123\n",
      "argc=1]  *argv [0]: 1\n",
      "argc=1]  *argv [1]: d\n",
      "argc=1] (*argv) [0]: 1\n",
      "argc=0]  *argv    : donald\n",
      "argc=0]  *argv [0]: d\n",
      "/bin/bash: line 1: 77711 Segmentation fault: 11  ./ex14bis goofy 123 donald\n"
     ]
    }
   ],
   "source": [
    "! g++ -o ex14bis ex14bis.cpp && ./ex14bis goofy 123 donald"
   ]
  },
  {
   "cell_type": "markdown",
   "metadata": {},
   "source": [
    "``(*argv)[1]`` points to location 1 of the element pointed-to by the current value of argv: unfortunately, this is an address outside the range of argv and it therefore produces a segmentation-fault error (invalid memory): we are trying to access memory we have not access to."
   ]
  },
  {
   "cell_type": "markdown",
   "metadata": {},
   "source": [
    "## Pointer to function"
   ]
  },
  {
   "cell_type": "code",
   "execution_count": 13,
   "metadata": {},
   "outputs": [
    {
     "name": "stdout",
     "output_type": "stream",
     "text": [
      "\u001b[1mex15aux.cpp:15:32: \u001b[0m\u001b[0;1;35mwarning: \u001b[0m\u001b[1maddress of function 'b' will always evaluate to 'true' [-Wpointer-bool-conversion]\u001b[0m\n",
      "    cout << \"       b   : \" << b        << endl ;\n",
      "\u001b[0;1;32m                            ~~ ^\n",
      "\u001b[0m\u001b[1mex15aux.cpp:15:32: \u001b[0m\u001b[0;1;30mnote: \u001b[0mprefix with the address-of operator to silence this warning\u001b[0m\n",
      "    cout << \"       b   : \" << b        << endl ;\n",
      "\u001b[0;1;32m                               ^\n",
      "\u001b[0m\u001b[0;32m                               &\n",
      "\u001b[0m1 warning generated.\n",
      "       b   : 1\n",
      "(void*)b   : 0x103dc9ed0\n",
      "      fb() : 15\n",
      "      fa(6): 7\n"
     ]
    }
   ],
   "source": [
    "! g++ -o ex15aux ex15aux.cpp && ./ex15aux"
   ]
  },
  {
   "cell_type": "markdown",
   "metadata": {},
   "source": [
    "Suppose we want a program acting as a simple desktop calculator, e.g.\\\n",
    "./ex15 3 + 4\\\n",
    "3 + 4 = 7\\\n",
    "Without pointers to functions it is almost impossible."
   ]
  },
  {
   "cell_type": "code",
   "execution_count": 14,
   "metadata": {},
   "outputs": [
    {
     "name": "stdout",
     "output_type": "stream",
     "text": [
      "3 + 4 = 7\n"
     ]
    }
   ],
   "source": [
    "! g++ -o ex15 ex15.cpp && ./ex15 3 + 4"
   ]
  },
  {
   "cell_type": "markdown",
   "metadata": {},
   "source": [
    "Another example: a program capable of sorting an array in ascending or descending order."
   ]
  },
  {
   "cell_type": "code",
   "execution_count": 16,
   "metadata": {},
   "outputs": [
    {
     "name": "stdout",
     "output_type": "stream",
     "text": [
      "98 41 21 17 17 15 13 9 5 -18 \n",
      "-18 5 9 13 15 17 17 21 41 98 \n"
     ]
    }
   ],
   "source": [
    "! g++ -o ex15bis ex15bis.cpp && ./ex15bis"
   ]
  }
 ],
 "metadata": {
  "interpreter": {
   "hash": "aee8b7b246df8f9039afb4144a1f6fd8d2ca17a180786b69acc140d282b71a49"
  },
  "kernelspec": {
   "display_name": "Python 3.10.0 64-bit",
   "language": "python",
   "name": "python3"
  },
  "language_info": {
   "codemirror_mode": {
    "name": "ipython",
    "version": 3
   },
   "file_extension": ".py",
   "mimetype": "text/x-python",
   "name": "python",
   "nbconvert_exporter": "python",
   "pygments_lexer": "ipython3",
   "version": "3.10.0"
  },
  "orig_nbformat": 4
 },
 "nbformat": 4,
 "nbformat_minor": 2
}
